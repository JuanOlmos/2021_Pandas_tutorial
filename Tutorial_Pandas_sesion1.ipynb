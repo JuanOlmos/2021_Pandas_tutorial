{
 "cells": [
  {
   "cell_type": "code",
   "execution_count": null,
   "id": "82ace5d8-5d09-4377-8379-6ac21993008a",
   "metadata": {},
   "outputs": [],
   "source": [
    "import numpy as np\n",
    "import pandas as pd"
   ]
  },
  {
   "cell_type": "markdown",
   "id": "324d07f6-b094-4672-91e3-e8de1b7b6036",
   "metadata": {},
   "source": [
    "# CONTENIDO\n",
    "\n",
    "1. [Obteniendo y conociendo los datos](#obtiene_conoce_datos)\n",
    "2. [Ordenar y filtrar](#ordenar_filtrar)\n",
    "3. [Agrupamiento](#agrupamiento)\n",
    "4. [Aplicación de funciones](#aplicacion_funciones)\n",
    "\n",
    "[Referencias](#refe)"
   ]
  },
  {
   "cell_type": "markdown",
   "id": "8942dc57-e3ba-43c1-a7af-2e619cf5403f",
   "metadata": {},
   "source": [
    "## Que es pandas?\n",
    "Biblioteca de software libre de escrita a partir de NumPy para la manipulación y análisis de datos, especialmente usando tablas numéricas (**DataFrames**) y series temporales (**Series**). \n",
    "\n",
    "**Estructura básica**\n",
    "\n",
    "\n",
    "![](./imgs/pandas-data-structure.png) "
   ]
  },
  {
   "cell_type": "markdown",
   "id": "7c89d0f5-ec86-4d48-8817-4bcb98da7327",
   "metadata": {},
   "source": [
    "<a id='obtiene_conoce_datos'></a>\n",
    "# 1. Obteniendo y conociendo los datos"
   ]
  },
  {
   "cell_type": "markdown",
   "id": "3ee609d3-38bc-4de2-be55-1a48c581be5a",
   "metadata": {},
   "source": [
    "### Series temporales"
   ]
  },
  {
   "cell_type": "code",
   "execution_count": null,
   "id": "d7df5003-a4eb-4ade-af6b-7240b5d2772e",
   "metadata": {},
   "outputs": [],
   "source": [
    "ciudades = pd.Series(['BUCARAMANGA','MEDELLIN','BOGOTA','CALI'])\n",
    "ciudades"
   ]
  },
  {
   "cell_type": "code",
   "execution_count": null,
   "id": "7ef43573-9f62-4569-bdb4-b193cb920ce3",
   "metadata": {},
   "outputs": [],
   "source": [
    "poblacion = pd.Series([581130,2569000,7181000,2228000])\n",
    "poblacion"
   ]
  },
  {
   "cell_type": "markdown",
   "id": "2e70c4da-c0d5-45c1-8179-33e0050f623f",
   "metadata": {},
   "source": [
    "### Creando DataFrames a mano"
   ]
  },
  {
   "cell_type": "markdown",
   "id": "4206a688-5325-4dc8-9aee-5be45110eef5",
   "metadata": {},
   "source": [
    "Creamos un diccionario con las **Series**"
   ]
  },
  {
   "cell_type": "code",
   "execution_count": null,
   "id": "b9a557be-3233-48ec-9852-6696c4b25b82",
   "metadata": {},
   "outputs": [],
   "source": [
    "informacion = {'Nombre_ciudades': ciudades,\n",
    "              'Poblacion': poblacion}\n",
    "informacion"
   ]
  },
  {
   "cell_type": "markdown",
   "id": "d72aec7e-3c60-49c6-a26e-8f537cbf88bc",
   "metadata": {},
   "source": [
    "Ya con las series podemos crear el **DataFrame**."
   ]
  },
  {
   "cell_type": "code",
   "execution_count": null,
   "id": "3d660fe2-ce58-4b45-875e-a04239606e71",
   "metadata": {},
   "outputs": [],
   "source": [
    "df = pd.DataFrame(informacion)\n",
    "df"
   ]
  },
  {
   "cell_type": "markdown",
   "id": "6a587b77-94d3-4ea3-9c84-c255719750f2",
   "metadata": {},
   "source": [
    "![](./imgs/Ejercicio.png)\n",
    "**EJERCICIO:** Crear un DataFrame cuyas columnas sean 'Nombre', 'Nacimiento', 'Municipio_de_residencia' (Intentar soluciones diferentes)"
   ]
  },
  {
   "cell_type": "code",
   "execution_count": null,
   "id": "19493e03-7897-4df2-8d30-6324489506e1",
   "metadata": {},
   "outputs": [],
   "source": [
    "#`Solución:`\n",
    "\n",
    "infromacion_curso = pd.DataFrame({ })\n"
   ]
  },
  {
   "cell_type": "markdown",
   "id": "01f56d36-6ff5-4906-9dbe-daef4f46b3ce",
   "metadata": {},
   "source": [
    "En el archivo `data/ejemplo.csv` ya se encontraban algunos datos de ejemplo. Se puede **Cargar el archivo** para visualizarlo"
   ]
  },
  {
   "cell_type": "code",
   "execution_count": null,
   "id": "eefeef64-845e-4f2f-b33a-ddf41e577328",
   "metadata": {},
   "outputs": [],
   "source": [
    "informacion = pd.read_csv('data/ejemplo.csv')\n",
    "informacion"
   ]
  },
  {
   "cell_type": "markdown",
   "id": "b5ba0c03-541a-4eb2-916a-64a93493cae5",
   "metadata": {},
   "source": [
    "![Prueba](./imgs/Terminal.png) \n",
    "\n",
    "Existe una forma para crear un data Frame (o modificarlo) a traves de archivos .txt. En ellos, basta con escribir cada columna seguido de una coma y cada fila en un renglón independiente. **Hagamoslo con el ejemplo anterior** \n",
    "\n",
    "1. Modificar el .txt.\n",
    "2. Guardarlo.\n",
    "3. Cargarlo usando `pd.read_csv()"
   ]
  },
  {
   "cell_type": "code",
   "execution_count": null,
   "id": "2b8ebd11-c57f-4077-8fbe-34cfc72f8b82",
   "metadata": {},
   "outputs": [],
   "source": [
    "informacion = pd.read_csv('data/ejemplo.txt')\n",
    "informacion"
   ]
  },
  {
   "cell_type": "markdown",
   "id": "d29f0b98-f34c-4d0f-813c-d983793f8b39",
   "metadata": {},
   "source": [
    "Podemos visualizar las columnas"
   ]
  },
  {
   "cell_type": "code",
   "execution_count": null,
   "id": "76effd08-08c2-424b-8d53-1595a5a3cffe",
   "metadata": {},
   "outputs": [],
   "source": [
    "informacion.columns"
   ]
  },
  {
   "cell_type": "code",
   "execution_count": null,
   "id": "0a224969-44a9-4c53-8852-0f79c977d812",
   "metadata": {},
   "outputs": [],
   "source": [
    "informacion['Nombre']"
   ]
  },
  {
   "cell_type": "code",
   "execution_count": null,
   "id": "9271695a-7fb4-4067-8176-a965c38b664c",
   "metadata": {},
   "outputs": [],
   "source": [
    "informacion.Nombre"
   ]
  },
  {
   "cell_type": "code",
   "execution_count": null,
   "id": "a901addb-494c-4120-b3d2-baba5ce6f8a7",
   "metadata": {},
   "outputs": [],
   "source": [
    "informacion.Fecha_de_Nacimiento"
   ]
  },
  {
   "cell_type": "markdown",
   "id": "0c54a0eb-5b60-45e1-a9cd-e1a338ebb228",
   "metadata": {},
   "source": [
    "Si el nombre de la columna tuviera espacios, no podriamos usar esta opción, solo se podría mediante corchetes.\n",
    "\n",
    "![](./imgs/Ejercicio.png)\n",
    "Comprobar."
   ]
  },
  {
   "cell_type": "code",
   "execution_count": null,
   "id": "c332b98f-a41f-48ea-bb2e-942ad28ef81d",
   "metadata": {},
   "outputs": [],
   "source": [
    "#`Solución:`\n",
    "\n",
    "\n"
   ]
  },
  {
   "cell_type": "code",
   "execution_count": null,
   "id": "f0367185-e3e6-4db8-8929-5caba06a3286",
   "metadata": {},
   "outputs": [],
   "source": [
    "informacion['Municipio de residencia']"
   ]
  },
  {
   "cell_type": "markdown",
   "id": "d1aaa08d-8892-4ca3-ba12-e4cf701f56d7",
   "metadata": {},
   "source": [
    "## Archivos CSV\n",
    "Entre otras características, Pandas permite la lectura y carga de archivos tipo .csv (formato para representar datos en forma de tabla). La diferencia con los .txt **siempre** los datos estan separados por comas, mientras que en los .txt pueden estar separados por otros caracteres o espacios.\n",
    "\n",
    "![Prueba](../imgs/Terminal.png) \n",
    "\n",
    "1. Veamos el archivo `data/population_by_country_2020.csv` [Tomado de kaggle](https://www.kaggle.com/tanuprabhu/population-by-country-2020)\n",
    "2. Carguemoslo como un dataframe \n"
   ]
  },
  {
   "cell_type": "code",
   "execution_count": null,
   "id": "1f200ad5-9ea6-4e38-b4e4-a603c2071001",
   "metadata": {},
   "outputs": [],
   "source": [
    "p = pd.read_csv('data/population_by_country_2020.csv')\n",
    "p"
   ]
  },
  {
   "cell_type": "markdown",
   "id": "d184992f-a82c-471d-b778-3075ca2772b3",
   "metadata": {},
   "source": [
    "![](../imgs/Pregunta.png)\n",
    "Al cargar a `p` ya es una instancia del objeto DataFrame?"
   ]
  },
  {
   "cell_type": "code",
   "execution_count": null,
   "id": "31e0fb90-5261-4403-a9c5-53f337d4e56c",
   "metadata": {},
   "outputs": [],
   "source": [
    "#'Solución:'\n",
    "\n",
    "\n"
   ]
  },
  {
   "cell_type": "markdown",
   "id": "25d6b9ec-c72e-4e66-9e75-f336dadb99d7",
   "metadata": {},
   "source": [
    "Al crear `p` se creó una instancia de DataFrame. Hay muchos métodos para ella ([ver referencias Pandas](https://pandas.pydata.org/docs/reference/api/pandas.DataFrame.html)) uno de ellos nos permite ver las primeras filas para conocer las columnas "
   ]
  },
  {
   "cell_type": "code",
   "execution_count": null,
   "id": "8a4b0146-6025-480c-9280-4b75f64f4714",
   "metadata": {},
   "outputs": [],
   "source": [
    "p.head()"
   ]
  },
  {
   "cell_type": "markdown",
   "id": "c627719f-a3e8-42cd-aaf5-d4486c7545c2",
   "metadata": {},
   "source": [
    "Se pueden ver mas filas, por ejemplo:"
   ]
  },
  {
   "cell_type": "code",
   "execution_count": null,
   "id": "a6d30174-8a23-4d60-b144-5b7c220b9719",
   "metadata": {},
   "outputs": [],
   "source": [
    "p.head(15)"
   ]
  },
  {
   "cell_type": "markdown",
   "id": "7d176a21-2897-4c72-837f-e0ca63ab150f",
   "metadata": {},
   "source": [
    "Veamos algunos otros métodos "
   ]
  },
  {
   "cell_type": "code",
   "execution_count": null,
   "id": "5f4ace95-3511-4453-9c1f-02d6b251af81",
   "metadata": {},
   "outputs": [],
   "source": [
    "p.tail()"
   ]
  },
  {
   "cell_type": "code",
   "execution_count": null,
   "id": "04a6d201-2b6c-42e0-9f45-b461d5ebea84",
   "metadata": {},
   "outputs": [],
   "source": [
    "p.shape"
   ]
  },
  {
   "cell_type": "code",
   "execution_count": null,
   "id": "1c5fba7f-81a6-4a95-8728-3fba7f87e76d",
   "metadata": {},
   "outputs": [],
   "source": [
    "p.columns"
   ]
  },
  {
   "cell_type": "code",
   "execution_count": null,
   "id": "71437c8b-b699-41db-b3c0-ec29bfdba8f9",
   "metadata": {},
   "outputs": [],
   "source": [
    "p.index"
   ]
  },
  {
   "cell_type": "code",
   "execution_count": null,
   "id": "a0e920d5-b0cf-40bf-884b-d1da022ddd0d",
   "metadata": {},
   "outputs": [],
   "source": [
    "p.describe()"
   ]
  },
  {
   "cell_type": "code",
   "execution_count": null,
   "id": "67f23b53-2aa4-4df3-886e-bf6fa2bb01a4",
   "metadata": {},
   "outputs": [],
   "source": [
    "p.info()"
   ]
  },
  {
   "cell_type": "markdown",
   "id": "205f3fb6-8ba2-424a-beac-4b8d2b29f284",
   "metadata": {},
   "source": [
    "Se trabaja ahora con un nuevo conjunto de datos sobre ocupación laboral"
   ]
  },
  {
   "cell_type": "code",
   "execution_count": null,
   "id": "ea494384-12c8-4c2b-b78c-c9f14aefada3",
   "metadata": {},
   "outputs": [],
   "source": [
    "us = pd.read_csv('data/users.csv')\n",
    "us.head()"
   ]
  },
  {
   "cell_type": "markdown",
   "id": "9c93e8a8-76ba-448a-af70-02e9c0d8b463",
   "metadata": {},
   "source": [
    "![](imgs/Ejercicio.png)\n",
    "1. Cuántos usuarios tiene el conjunto de datos?\n",
    "2. Cuáles son la ocupaciones que se enceuntran en el dataset? \n",
    "3. Cuántas ocupaciones diferentes hay? "
   ]
  },
  {
   "cell_type": "code",
   "execution_count": null,
   "id": "dc9d3ef1-3694-422e-aa72-dbe0cb0ed88d",
   "metadata": {},
   "outputs": [],
   "source": [
    "#`Solución`. \n",
    "\n",
    "\n",
    "\n"
   ]
  },
  {
   "cell_type": "code",
   "execution_count": null,
   "id": "51af1d7f-a1c9-49b7-a08c-21808c0b5012",
   "metadata": {},
   "outputs": [],
   "source": [
    "us.describe()"
   ]
  },
  {
   "cell_type": "markdown",
   "id": "3ecb662b-b0f7-44d2-8801-0539fbf62406",
   "metadata": {},
   "source": [
    "![](../imgs/Pregunta.png)\n",
    "Que tipo de objeto es `us.age`?"
   ]
  },
  {
   "cell_type": "code",
   "execution_count": null,
   "id": "f36f5151-054c-439a-b34c-327727078f27",
   "metadata": {},
   "outputs": [],
   "source": [
    "#`Solución:`\n",
    "\n",
    "\n"
   ]
  },
  {
   "cell_type": "markdown",
   "id": "f77bded3-0a31-4bc0-bfd9-00e680e12586",
   "metadata": {},
   "source": [
    "Conozcamos algunos métodos útiles para este tipo de instancias"
   ]
  },
  {
   "cell_type": "code",
   "execution_count": null,
   "id": "6b7b57ee-02a9-4fc8-9e33-e3bc99b7172a",
   "metadata": {},
   "outputs": [],
   "source": [
    "print(us.age.nunique())\n",
    "print(us.occupation.nunique())\n",
    "print(us.zip_code.nunique())"
   ]
  },
  {
   "cell_type": "code",
   "execution_count": null,
   "id": "e5409d57-0410-4461-a2cf-68b219d4e061",
   "metadata": {},
   "outputs": [],
   "source": [
    "us.occupation.value_counts()"
   ]
  },
  {
   "cell_type": "markdown",
   "id": "9a0044a1-7f1b-4e08-afb1-f5c55f8738d7",
   "metadata": {},
   "source": [
    "`head()` es una función que en este caso funciona para diferente tipo de clases"
   ]
  },
  {
   "cell_type": "code",
   "execution_count": null,
   "id": "af64785e-73d8-472b-815f-d734d0490acd",
   "metadata": {},
   "outputs": [],
   "source": [
    "us.occupation.value_counts().head(5)"
   ]
  },
  {
   "cell_type": "markdown",
   "id": "5a98a3c2-bbc8-487b-89a3-8ba5341fa134",
   "metadata": {},
   "source": [
    "![](imgs/Ejercicio.png)Cuál es la edad que mas se repite?"
   ]
  },
  {
   "cell_type": "code",
   "execution_count": null,
   "id": "51a56170-9e40-417e-9466-5c05cae36fcb",
   "metadata": {},
   "outputs": [],
   "source": [
    "#`Solución`\n",
    "\n",
    "\n"
   ]
  },
  {
   "cell_type": "markdown",
   "id": "ef8b17d9-cd47-4748-a035-6247d6e2148c",
   "metadata": {},
   "source": [
    "<a id='ordenar_filtrar'></a>\n",
    "# 2. Ordenar y filtrar"
   ]
  },
  {
   "cell_type": "markdown",
   "id": "22202839-87d5-4df8-86d0-6d04254cfc51",
   "metadata": {},
   "source": [
    "Un método mas para pd.DataFrames es `us.values`"
   ]
  },
  {
   "cell_type": "code",
   "execution_count": null,
   "id": "ea1b67ba-c1a6-4351-b739-a6b04b1ca1a0",
   "metadata": {},
   "outputs": [],
   "source": [
    "us.values"
   ]
  },
  {
   "cell_type": "markdown",
   "id": "afd0519e-e4c8-4f4b-9313-575d312452dd",
   "metadata": {},
   "source": [
    "![](imgs/Pregunta.png) Antes de ejecutar, que cree que hará la siguiente celda de código?"
   ]
  },
  {
   "cell_type": "code",
   "execution_count": null,
   "id": "b7ae5515-6484-40a5-8026-b7fb19770219",
   "metadata": {},
   "outputs": [],
   "source": [
    "m = us.values\n",
    "mask1 = m[:,2]=='M'  \n",
    "m = m[mask1]\n",
    "mask2 = m[:,3]=='technician'\n",
    "m = m[mask2]"
   ]
  },
  {
   "cell_type": "code",
   "execution_count": null,
   "id": "6b13feda-0879-41d2-941d-a27865e753b0",
   "metadata": {},
   "outputs": [],
   "source": [
    "#\n",
    "\n"
   ]
  },
  {
   "cell_type": "markdown",
   "id": "06c8a887-d1b2-4ccc-875b-c7f30edb07fb",
   "metadata": {},
   "source": [
    "Para filtrar datos, podemos usar lo siguiente. Acá se filtran los hombres mayores de 30 años de nuestra base de datos"
   ]
  },
  {
   "cell_type": "code",
   "execution_count": null,
   "id": "8b177273-b57e-4121-93c5-d2cb81a9b2fe",
   "metadata": {},
   "outputs": [],
   "source": [
    "#recordemos las columnas\n",
    "us.columns"
   ]
  },
  {
   "cell_type": "code",
   "execution_count": null,
   "id": "6627553b-37b8-4941-a4cf-58039b76f802",
   "metadata": {},
   "outputs": [],
   "source": [
    "us_filtrado = us[ (us['age'] >=30) & (us['gender']=='M') ]\n",
    "us_filtrado"
   ]
  },
  {
   "cell_type": "code",
   "execution_count": null,
   "id": "2e79d1a4-2749-46ce-80cd-ccfe4abfa311",
   "metadata": {},
   "outputs": [],
   "source": [
    "us_filtrado = us[ (us.age >=30) & (us.gender =='M') ]\n",
    "us_filtrado"
   ]
  },
  {
   "cell_type": "markdown",
   "id": "2d96b33c-22c6-401d-a528-42da9bc4a8b2",
   "metadata": {},
   "source": [
    "![](imgs/Pregunta.png) Que tipo de objeto se obtiene al filtrar? cuántos usuarios cumplen con esta condición"
   ]
  },
  {
   "cell_type": "code",
   "execution_count": null,
   "id": "216d9e7b-4146-4505-b590-475195c8f188",
   "metadata": {},
   "outputs": [],
   "source": [
    "#`Solución`\n",
    "\n"
   ]
  },
  {
   "cell_type": "markdown",
   "id": "eb0f3e87-4c63-4208-b8e9-7b3aa92aa243",
   "metadata": {},
   "source": [
    "![](imgs/Ejercicio.png) \n",
    "\n",
    "1. Hay mas hombres o mujeres ejecutiv@s?\n",
    "2. Cuál es la media de las edades de los educadores?\n",
    "\n",
    "**No olvida parentesis en las asignaciones logicas**"
   ]
  },
  {
   "cell_type": "code",
   "execution_count": null,
   "id": "7da00ce2-e664-4bf6-91e8-2c1ea2885e1a",
   "metadata": {},
   "outputs": [],
   "source": [
    "#Usar parentesis!\n",
    "\n",
    "\n",
    "\n"
   ]
  },
  {
   "cell_type": "markdown",
   "id": "a56c9ee2-c007-426a-a3e6-5c3adce050b8",
   "metadata": {},
   "source": [
    "Para ordenar los datos se puede usar `sort_values()`"
   ]
  },
  {
   "cell_type": "code",
   "execution_count": null,
   "id": "08be1bbe-5ca6-412f-8b9a-efedb70fb466",
   "metadata": {},
   "outputs": [],
   "source": [
    "#por defecto ascendente\n",
    "ordenados= us.sort_values(by = 'age')\n",
    "display(ordenados)\n",
    "\n",
    "ordenados_des = us.sort_values(by = 'age', ascending=False)\n",
    "display(ordenados_des)\n",
    "\n",
    "\n",
    "# type(ordenados)"
   ]
  },
  {
   "cell_type": "markdown",
   "id": "2b32384e-5ed0-44aa-a75d-5b63a8c3a043",
   "metadata": {},
   "source": [
    " <a id='agrupamiento'></a>\n",
    "# 3. Agrupamiento\n",
    "\n"
   ]
  },
  {
   "cell_type": "markdown",
   "id": "846fd861-e9d8-43cd-a722-a2a6ac05801a",
   "metadata": {},
   "source": [
    "Suponga que se quiere saber la media de las edades por cada una de las ocupaciones. Con lo visto hasta el momento, tocaría filtrar profesión por profesión y clacular la media. Para evitar eso podemos usar agrupamientos"
   ]
  },
  {
   "cell_type": "code",
   "execution_count": null,
   "id": "51ab24af-02b4-42d0-8e38-38c80591510c",
   "metadata": {},
   "outputs": [],
   "source": [
    "us.groupby('occupation').age.mean()"
   ]
  },
  {
   "cell_type": "code",
   "execution_count": null,
   "id": "698d12c5-4aac-44ea-8f36-45d4a48341e6",
   "metadata": {},
   "outputs": [],
   "source": [
    "us.groupby('occupation').age.describe()"
   ]
  },
  {
   "cell_type": "markdown",
   "id": "d5f06130-a0d9-4c88-afa7-b4c95dd8c77f",
   "metadata": {},
   "source": [
    "En este caso no tiene mucho sentido, pero si se quisiera, se puede comparar contra todos los otros atributos "
   ]
  },
  {
   "cell_type": "code",
   "execution_count": null,
   "id": "27b3a0fe-32aa-4234-a00f-e975281badab",
   "metadata": {},
   "outputs": [],
   "source": [
    "us.groupby('occupation').describe()"
   ]
  },
  {
   "cell_type": "markdown",
   "id": "0e02befc-56af-4aaf-aed1-52fc91d8a458",
   "metadata": {},
   "source": [
    "Si solo queremos ciertos datos"
   ]
  },
  {
   "cell_type": "code",
   "execution_count": null,
   "id": "cc4d3cbe-fc03-4b35-94b0-91762b6545d0",
   "metadata": {},
   "outputs": [],
   "source": [
    "us.groupby('occupation').agg(['mean','std'])"
   ]
  },
  {
   "cell_type": "code",
   "execution_count": null,
   "id": "9a77fa29-fd60-43b7-bf4a-dde5a6f83468",
   "metadata": {},
   "outputs": [],
   "source": [
    "us.groupby('occupation').age.agg(['mean','std'])"
   ]
  },
  {
   "cell_type": "markdown",
   "id": "e454f41f-ed6e-4a59-a420-089130a27f87",
   "metadata": {},
   "source": [
    "![](imgs/Ejercicio.png)\n",
    "\n",
    "Agrupar por género para ver las medidas (medias, std, min, max, etc..) con respecto a las otras columnas\n"
   ]
  },
  {
   "cell_type": "code",
   "execution_count": null,
   "id": "3f97a816-40d2-414e-b010-c216f3898170",
   "metadata": {},
   "outputs": [],
   "source": [
    "#`Solución:`\n",
    "\n",
    "\n",
    "\n",
    "\n"
   ]
  },
  {
   "cell_type": "markdown",
   "id": "fc708f9f-0bf8-4b92-baa2-22a2723ae4ae",
   "metadata": {},
   "source": [
    "<a id='aplicacion_funciones'></a>\n",
    "# Aplicación de funciones"
   ]
  },
  {
   "cell_type": "markdown",
   "id": "0eaa9c5c-4369-4f1a-82e0-eed75c05c5af",
   "metadata": {},
   "source": [
    "Basados en la columna de las edades, se quiere crear una nueva columna que indique el ciclo de vida en el que se encuentra cada usuario. Para esto se usan las funciones applicadas a datos conocidas como `apply`. Para esto\n",
    "\n",
    "1. Defina la función a aplicar. \n",
    "2. Apliquela a una nueva columna con `.apply` (se puede aplicar a la misma columna si lo que se quiere es cambiar el formato o valor de los datos de la columna)\n",
    "\n",
    "En nuestro caso, la función es"
   ]
  },
  {
   "cell_type": "code",
   "execution_count": null,
   "id": "e27eac44-9f72-499e-bd32-2a531c69c895",
   "metadata": {},
   "outputs": [],
   "source": [
    "def rango_etareo(x):\n",
    "    if x<5:\n",
    "        etapa='PRIMERA_INFANCIA'\n",
    "    elif 5<x<11:\n",
    "        etapa = 'INFANCIA'\n",
    "    elif 11<x<16:\n",
    "        etapa= 'ADOLESCENCIA'\n",
    "    elif 16<x<26:\n",
    "        etapa = 'JUVENTUD'\n",
    "    elif 26<x<59:\n",
    "        etapa = 'ADULTEZ'\n",
    "    else:\n",
    "        etapa = 'VEJEZ'\n",
    "        \n",
    "    return etapa        "
   ]
  },
  {
   "cell_type": "markdown",
   "id": "7311cfa5-d105-42c8-ad69-c8b33ae583f1",
   "metadata": {},
   "source": [
    "Apliquemosla"
   ]
  },
  {
   "cell_type": "code",
   "execution_count": null,
   "id": "32200c54-60ee-4ecf-bef6-2494f87fdfc4",
   "metadata": {},
   "outputs": [],
   "source": [
    "us['Etapa_Vital'] = us.age.apply(rango_etareo)"
   ]
  },
  {
   "cell_type": "code",
   "execution_count": null,
   "id": "b604ef6d-db93-473a-a9f4-4c49135fb54c",
   "metadata": {},
   "outputs": [],
   "source": [
    "us.head(10)"
   ]
  },
  {
   "cell_type": "code",
   "execution_count": null,
   "id": "23ab27c6-6921-4d6b-b9b0-568dd2432711",
   "metadata": {},
   "outputs": [],
   "source": [
    "us['Decada'] = us.age.apply(lambda x: np.round(x,-1))\n",
    "us.head()"
   ]
  },
  {
   "cell_type": "markdown",
   "id": "599952fc-39c2-4945-b310-9ed8a20b7a56",
   "metadata": {},
   "source": [
    "![](imgs/Challenge.png)\n",
    "\n",
    "**EJERCICIO FINAL:**\n",
    "\n",
    "En el siguiente enlace se presenta un dataset de diagnóstico de diabetes:\n",
    "\n",
    "[https://www.kaggle.com/mathchi/diabetes-data-set](https://www.kaggle.com/mathchi/diabetes-data-set).\n",
    "\n",
    "El dataset ya se encuentra descargado en la ruta `/data/diabetes.csv`\n",
    "\n",
    "Un médico requiere la sigueinte información:\n",
    "\n",
    "1. *la media y la desviación estandar de la glucosa de los pacientes que fueron diagnosticasdos con diabétes y de los que fueron diagnosticados como no-diabéticos*\n",
    "\n",
    "2. *Posteriormente, quiere dividir a la población en grupos por rangos de edades de 10 años, es decir, de 0-10, de 10-20, etc. Y para cada uno de estos rupos, calcular la media y la desviación estandar de la glucosa*\n"
   ]
  },
  {
   "cell_type": "markdown",
   "id": "13199483-7892-4c45-8cbc-b4b51d8195d6",
   "metadata": {},
   "source": [
    "<a id='refe'></a>\n",
    "\n",
    "## Referencias\n",
    "\n",
    "[1] Que es Pandas?: https://es.wikipedia.org/wiki/Pandas_(software) \n",
    "\n",
    "[2] Bivl2ab pandas tutorial: https://gitlab.com/bivl2ab/academico/cursos-uis/ai/ai-uis-student/-/blob/master/notebooks/03_std_Notes_Pandas_Introduction.ipynb\n",
    "\n",
    "[3] Datasets publicos: https://www.kaggle.com/\n",
    "\n",
    "[4] Métodos pandas.DataFrame: https://pandas.pydata.org/docs/reference/api/pandas.DataFrame.html\n",
    "\n",
    "[5] Github Pandas Tutorial: https://github.com/guipsamora/pandas_exercises\n",
    "<!-- [2] official panda doc sites:http://pandas.pydata.org/pandas-docs/stable/index.html\n",
    "\n",
    "[2] Description of a dataset: https://www.kaggle.com/camnugent/california-housing-prices -->"
   ]
  }
 ],
 "metadata": {
  "kernelspec": {
   "display_name": "Python 3",
   "language": "python",
   "name": "python3"
  },
  "language_info": {
   "codemirror_mode": {
    "name": "ipython",
    "version": 3
   },
   "file_extension": ".py",
   "mimetype": "text/x-python",
   "name": "python",
   "nbconvert_exporter": "python",
   "pygments_lexer": "ipython3",
   "version": "3.8.8"
  }
 },
 "nbformat": 4,
 "nbformat_minor": 5
}
