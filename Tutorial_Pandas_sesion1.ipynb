{
 "cells": [
  {
   "cell_type": "code",
   "execution_count": 23,
   "id": "82ace5d8-5d09-4377-8379-6ac21993008a",
   "metadata": {},
   "outputs": [],
   "source": [
    "import numpy as np\n",
    "import pandas as pd"
   ]
  },
  {
   "cell_type": "markdown",
   "id": "324d07f6-b094-4672-91e3-e8de1b7b6036",
   "metadata": {},
   "source": [
    "1. [Referencias](#refe)"
   ]
  },
  {
   "cell_type": "markdown",
   "id": "8942dc57-e3ba-43c1-a7af-2e619cf5403f",
   "metadata": {},
   "source": [
    "## Que es pandas?\n",
    "Biblioteca de software libre de escrita a partir de NumPy para la manipulación y análisis de datos, especialmente usando tablas numéricas (**DataFrames**) y series temporales (**Series**). \n",
    "\n",
    "**Estructura básica**\n",
    "\n",
    "<center>\n",
    "<img src=\"https://gitlab.com/bivl2ab/academico/cursos-uis/ai/ai-uis-student/raw/master/imgs/pandas-data-structure.png\" width=\"700\">\n",
    "</center>"
   ]
  },
  {
   "cell_type": "markdown",
   "id": "3ee609d3-38bc-4de2-be55-1a48c581be5a",
   "metadata": {},
   "source": [
    "### Series temporales"
   ]
  },
  {
   "cell_type": "code",
   "execution_count": 24,
   "id": "d7df5003-a4eb-4ade-af6b-7240b5d2772e",
   "metadata": {},
   "outputs": [
    {
     "data": {
      "text/plain": [
       "0    BUCARAMANGA\n",
       "1       MEDELLIN\n",
       "2         BOGOTA\n",
       "3           CALI\n",
       "dtype: object"
      ]
     },
     "execution_count": 24,
     "metadata": {},
     "output_type": "execute_result"
    }
   ],
   "source": [
    "ciudades = pd.Series(['BUCARAMANGA','MEDELLIN','BOGOTA','CALI'])\n",
    "ciudades"
   ]
  },
  {
   "cell_type": "code",
   "execution_count": 25,
   "id": "7ef43573-9f62-4569-bdb4-b193cb920ce3",
   "metadata": {},
   "outputs": [
    {
     "data": {
      "text/plain": [
       "0     581130\n",
       "1    2569000\n",
       "2    7181000\n",
       "3    2228000\n",
       "dtype: int64"
      ]
     },
     "execution_count": 25,
     "metadata": {},
     "output_type": "execute_result"
    }
   ],
   "source": [
    "poblacion = pd.Series([581130,2569000,7181000,2228000])\n",
    "poblacion"
   ]
  },
  {
   "cell_type": "markdown",
   "id": "2e70c4da-c0d5-45c1-8179-33e0050f623f",
   "metadata": {},
   "source": [
    "### Creando DataFrames a mano"
   ]
  },
  {
   "cell_type": "markdown",
   "id": "4206a688-5325-4dc8-9aee-5be45110eef5",
   "metadata": {},
   "source": [
    "Creamos un diccionario con las **Series**"
   ]
  },
  {
   "cell_type": "code",
   "execution_count": 26,
   "id": "b9a557be-3233-48ec-9852-6696c4b25b82",
   "metadata": {},
   "outputs": [
    {
     "data": {
      "text/plain": [
       "{'Nombre_ciudades': 0    BUCARAMANGA\n",
       " 1       MEDELLIN\n",
       " 2         BOGOTA\n",
       " 3           CALI\n",
       " dtype: object,\n",
       " 'Poblacion': 0     581130\n",
       " 1    2569000\n",
       " 2    7181000\n",
       " 3    2228000\n",
       " dtype: int64}"
      ]
     },
     "execution_count": 26,
     "metadata": {},
     "output_type": "execute_result"
    }
   ],
   "source": [
    "informacion = {'Nombre_ciudades': ciudades,\n",
    "              'Poblacion': poblacion}\n",
    "informacion"
   ]
  },
  {
   "cell_type": "markdown",
   "id": "d72aec7e-3c60-49c6-a26e-8f537cbf88bc",
   "metadata": {},
   "source": [
    "Ya con las series podemos crear el **DataFrame**."
   ]
  },
  {
   "cell_type": "code",
   "execution_count": 27,
   "id": "3d660fe2-ce58-4b45-875e-a04239606e71",
   "metadata": {},
   "outputs": [
    {
     "data": {
      "text/html": [
       "<div>\n",
       "<style scoped>\n",
       "    .dataframe tbody tr th:only-of-type {\n",
       "        vertical-align: middle;\n",
       "    }\n",
       "\n",
       "    .dataframe tbody tr th {\n",
       "        vertical-align: top;\n",
       "    }\n",
       "\n",
       "    .dataframe thead th {\n",
       "        text-align: right;\n",
       "    }\n",
       "</style>\n",
       "<table border=\"1\" class=\"dataframe\">\n",
       "  <thead>\n",
       "    <tr style=\"text-align: right;\">\n",
       "      <th></th>\n",
       "      <th>Nombre_ciudades</th>\n",
       "      <th>Poblacion</th>\n",
       "    </tr>\n",
       "  </thead>\n",
       "  <tbody>\n",
       "    <tr>\n",
       "      <th>0</th>\n",
       "      <td>BUCARAMANGA</td>\n",
       "      <td>581130</td>\n",
       "    </tr>\n",
       "    <tr>\n",
       "      <th>1</th>\n",
       "      <td>MEDELLIN</td>\n",
       "      <td>2569000</td>\n",
       "    </tr>\n",
       "    <tr>\n",
       "      <th>2</th>\n",
       "      <td>BOGOTA</td>\n",
       "      <td>7181000</td>\n",
       "    </tr>\n",
       "    <tr>\n",
       "      <th>3</th>\n",
       "      <td>CALI</td>\n",
       "      <td>2228000</td>\n",
       "    </tr>\n",
       "  </tbody>\n",
       "</table>\n",
       "</div>"
      ],
      "text/plain": [
       "  Nombre_ciudades  Poblacion\n",
       "0     BUCARAMANGA     581130\n",
       "1        MEDELLIN    2569000\n",
       "2          BOGOTA    7181000\n",
       "3            CALI    2228000"
      ]
     },
     "execution_count": 27,
     "metadata": {},
     "output_type": "execute_result"
    }
   ],
   "source": [
    "df = pd.DataFrame(informacion)\n",
    "df"
   ]
  },
  {
   "cell_type": "markdown",
   "id": "333ecedf-87d8-4f31-ada6-a2d2b234cd7a",
   "metadata": {},
   "source": [
    "Podemos indicar los indices de la tabla"
   ]
  },
  {
   "cell_type": "code",
   "execution_count": 28,
   "id": "63600913-0fb4-44fa-a53c-0b5534a2a0c3",
   "metadata": {},
   "outputs": [
    {
     "data": {
      "text/html": [
       "<div>\n",
       "<style scoped>\n",
       "    .dataframe tbody tr th:only-of-type {\n",
       "        vertical-align: middle;\n",
       "    }\n",
       "\n",
       "    .dataframe tbody tr th {\n",
       "        vertical-align: top;\n",
       "    }\n",
       "\n",
       "    .dataframe thead th {\n",
       "        text-align: right;\n",
       "    }\n",
       "</style>\n",
       "<table border=\"1\" class=\"dataframe\">\n",
       "  <thead>\n",
       "    <tr style=\"text-align: right;\">\n",
       "      <th></th>\n",
       "      <th>Nombre_ciudades</th>\n",
       "      <th>Poblacion</th>\n",
       "    </tr>\n",
       "  </thead>\n",
       "  <tbody>\n",
       "    <tr>\n",
       "      <th>Ciudad_1</th>\n",
       "      <td>NaN</td>\n",
       "      <td>NaN</td>\n",
       "    </tr>\n",
       "    <tr>\n",
       "      <th>Ciudad_2</th>\n",
       "      <td>NaN</td>\n",
       "      <td>NaN</td>\n",
       "    </tr>\n",
       "    <tr>\n",
       "      <th>Ciudad_3</th>\n",
       "      <td>NaN</td>\n",
       "      <td>NaN</td>\n",
       "    </tr>\n",
       "    <tr>\n",
       "      <th>Ciudad_4</th>\n",
       "      <td>NaN</td>\n",
       "      <td>NaN</td>\n",
       "    </tr>\n",
       "  </tbody>\n",
       "</table>\n",
       "</div>"
      ],
      "text/plain": [
       "         Nombre_ciudades  Poblacion\n",
       "Ciudad_1             NaN        NaN\n",
       "Ciudad_2             NaN        NaN\n",
       "Ciudad_3             NaN        NaN\n",
       "Ciudad_4             NaN        NaN"
      ]
     },
     "execution_count": 28,
     "metadata": {},
     "output_type": "execute_result"
    }
   ],
   "source": [
    "df = pd.DataFrame(informacion, index= ['Ciudad_1', 'Ciudad_2', 'Ciudad_3', 'Ciudad_4'] )\n",
    "df"
   ]
  },
  {
   "cell_type": "markdown",
   "id": "d1aaa08d-8892-4ca3-ba12-e4cf701f56d7",
   "metadata": {},
   "source": [
    "## Archivos CSV\n",
    "Entre otras características, Pandas permite la lectura y carga de archivos tipo .csv (formato para representar datos en forma de tabla)."
   ]
  },
  {
   "cell_type": "code",
   "execution_count": null,
   "id": "e32df62d-5dca-46f4-a3d1-6c814869b837",
   "metadata": {},
   "outputs": [],
   "source": []
  },
  {
   "cell_type": "markdown",
   "id": "13199483-7892-4c45-8cbc-b4b51d8195d6",
   "metadata": {},
   "source": [
    "<a id='refe'></a>\n",
    "\n",
    "## Referencias\n",
    "\n",
    "[1] Que es Pandas?: https://es.wikipedia.org/wiki/Pandas_(software) \n",
    "\n",
    "[2] Bivl2ab pandas tutorial. https://gitlab.com/bivl2ab/academico/cursos-uis/ai/ai-uis-student/-/blob/master/notebooks/03_std_Notes_Pandas_Introduction.ipynb\n",
    "\n",
    "<!-- [2] official panda doc sites:http://pandas.pydata.org/pandas-docs/stable/index.html\n",
    "\n",
    "[2] Description of a dataset: https://www.kaggle.com/camnugent/california-housing-prices -->"
   ]
  }
 ],
 "metadata": {
  "kernelspec": {
   "display_name": "Python 3",
   "language": "python",
   "name": "python3"
  },
  "language_info": {
   "codemirror_mode": {
    "name": "ipython",
    "version": 3
   },
   "file_extension": ".py",
   "mimetype": "text/x-python",
   "name": "python",
   "nbconvert_exporter": "python",
   "pygments_lexer": "ipython3",
   "version": "3.8.8"
  }
 },
 "nbformat": 4,
 "nbformat_minor": 5
}
